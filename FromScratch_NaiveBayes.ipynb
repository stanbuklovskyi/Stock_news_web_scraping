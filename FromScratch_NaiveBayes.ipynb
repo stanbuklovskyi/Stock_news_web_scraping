{
  "nbformat": 4,
  "nbformat_minor": 0,
  "metadata": {
    "colab": {
      "provenance": [],
      "authorship_tag": "ABX9TyPAvwsOlXPSmvTPbNgLwX5g",
      "include_colab_link": true
    },
    "kernelspec": {
      "name": "python3",
      "display_name": "Python 3"
    },
    "language_info": {
      "name": "python"
    }
  },
  "cells": [
    {
      "cell_type": "markdown",
      "metadata": {
        "id": "view-in-github",
        "colab_type": "text"
      },
      "source": [
        "<a href=\"https://colab.research.google.com/github/stanbuklovskyi/Stock_news_web_scraping/blob/main/FromScratch_NaiveBayes.ipynb\" target=\"_parent\"><img src=\"https://colab.research.google.com/assets/colab-badge.svg\" alt=\"Open In Colab\"/></a>"
      ]
    },
    {
      "cell_type": "markdown",
      "source": [
        "# This is an object-oriented implementation of Naive Bayes algorithm "
      ],
      "metadata": {
        "id": "KPmHaE_i5xil"
      }
    },
    {
      "cell_type": "code",
      "execution_count": null,
      "metadata": {
        "id": "vPKlRLcl4z3F"
      },
      "outputs": [],
      "source": [
        "import numpy as np\n"
      ]
    },
    {
      "cell_type": "code",
      "source": [
        "# class NaiveBayes\n",
        "class NaiveBayes:\n",
        "\n",
        "    def fit(self, X, y):\n",
        "        n_samples, n_features = X.shape\n",
        "        self._classes = np.unique(y)\n",
        "        n_classes = len(self._classes)\n",
        "        \n",
        "        # calculate mean, var and prior for each class\n",
        "        # initializng \n",
        "        self._mean = np.zeros((n_classes, n_features))\n",
        "        self._var = np.zeros((n_classes, n_features))\n",
        "        self._priors = np.zeros((n_classes))\n",
        "\n",
        "        # calculations \n",
        "        for idx, c in enumerate(self._classes):\n",
        "            X_c = X[y == c]\n",
        "            self._mean[idx, :] = X_c.mean(axis=0)\n",
        "            self._var[idx, :] = X_c.var(axis=0)\n",
        "            self._priors[idx] = X_c.shape[0] / float(n_samples)\n",
        "\n",
        "    def predict(self, X):\n",
        "        y_pred = [self._predict(x) for x in X]\n",
        "        return np.array(y_pred)\n",
        "\n",
        "    def _predict(self, x):\n",
        "        posteriors = []\n",
        "\n",
        "        # calculate posterior probability for each class\n",
        "        for idx, c in enumerate(self._classes):\n",
        "            prior = np.log(self._priors[idx])\n",
        "            posterior = np.sum(np.log(self._prob_density(idx, x)))\n",
        "            posterior += prior\n",
        "            posteriors.append(posterior)\n",
        "\n",
        "        # return class with the highest posterior \n",
        "        return self._classes[np.argmax(posteriors)]\n",
        "\n",
        "    def _prob_density(self, class_idx, x):\n",
        "        mean = self._mean[class_idx]\n",
        "        var = self._var[class_idx]\n",
        "        numerator = np.exp(-((x - mean) ** 2) / (2 * var))\n",
        "        denominator = np.sqrt(2 * np.pi * var)\n",
        "\n",
        "        return numerator / denominator"
      ],
      "metadata": {
        "id": "Rb4dNHLl72zY"
      },
      "execution_count": null,
      "outputs": []
    },
    {
      "cell_type": "code",
      "source": [
        "from sklearn.utils import random\n",
        "# testing \n",
        "from sklearn.model_selection import train_test_split\n",
        "from sklearn import datasets\n",
        "\n",
        "def accuracy(y_true, y_pred):\n",
        "    accuracy = np.sum(y_true == y_pred) / len(y_true)\n",
        "\n",
        "    return accuracy\n",
        "\n",
        "# make a dataset for testing\n",
        "X, y = datasets.make_classification(\n",
        "    n_samples=1000, n_features=10, n_classes=2, random_state=666\n",
        ")\n",
        "\n",
        "# train, test split\n",
        "X_train, X_test, y_train, y_test = train_test_split(\n",
        "    X, y, test_size=0.2, random_state=666\n",
        ")\n",
        "\n",
        "# testing the classifier\n",
        "n_b = NaiveBayes()\n",
        "n_b.fit(X_train, y_train)\n",
        "\n",
        "predictions = n_b.predict(X_test)\n",
        "\n",
        "# accuracy\n",
        "print(f\"Our Naive Bayes gives {accuracy(y_test, predictions) * 100}% accuracy\")\n"
      ],
      "metadata": {
        "colab": {
          "base_uri": "https://localhost:8080/"
        },
        "id": "83lUMTSo_zg1",
        "outputId": "7df13d0a-eba4-4f00-ab4e-c3929d96275d"
      },
      "execution_count": null,
      "outputs": [
        {
          "output_type": "stream",
          "name": "stdout",
          "text": [
            "Our Naive Bayes gives 88.0% accuracy\n"
          ]
        }
      ]
    },
    {
      "cell_type": "code",
      "source": [],
      "metadata": {
        "id": "ZYHfjY-cB5k0"
      },
      "execution_count": null,
      "outputs": []
    }
  ]
}