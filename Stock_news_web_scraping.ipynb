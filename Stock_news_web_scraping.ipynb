{
 "cells": [
  {
   "cell_type": "markdown",
   "metadata": {
    "id": "ipsDdavWpfoV"
   },
   "source": [
    "# Simple and quick way to scrape news about a stock of choice \n",
    "\n",
    "This short procedure can be utilized to scrape news on the stock you're interested in. This code can also be a part of bigger projects such as sentiment analysis or any statistical analysis of text."
   ]
  },
  {
   "cell_type": "markdown",
   "metadata": {
    "id": "7jJPnzTsr1n7"
   },
   "source": [
    "For information on the stock we will use [finviz](https://finviz.com/)"
   ]
  },
  {
   "cell_type": "code",
   "execution_count": 1,
   "metadata": {
    "id": "UnW84UvDpbNb"
   },
   "outputs": [],
   "source": [
    "# first, import Beautiful Soup and urllib for scraping + other...\n",
    "# libraries to work with the data\n",
    "from bs4 import BeautifulSoup\n",
    "from urllib.request import urlopen, Request\n",
    "import pandas as pd\n",
    "from datetime import date, timedelta"
   ]
  },
  {
   "cell_type": "code",
   "execution_count": 2,
   "metadata": {
    "id": "ZcBKNsRXsmHU"
   },
   "outputs": [],
   "source": [
    "# let's pick a ticker. For example, Amazon - AMZN\n",
    "stock = 'AMZN'\n",
    "news = {}\n",
    "\n",
    "# copy the finviz url \n",
    "# (it may change over time so make sure url ending is correct)\n",
    "url = f'https://finviz.com/quote.ashx?t={stock}&p=d'\n",
    "request = Request(url=url, headers={'user-agent': 'news_scraper'})\n",
    "response = urlopen(request)"
   ]
  },
  {
   "cell_type": "code",
   "execution_count": 3,
   "metadata": {
    "id": "uppHfoHUtfn0"
   },
   "outputs": [],
   "source": [
    "# parse the data\n",
    "html = BeautifulSoup(response, features='html.parser')\n",
    "finviz_news_table = html.find(id='news-table')\n",
    "news[stock] = finviz_news_table\n",
    "\n",
    "# filter and store neede in news_parsed\n",
    "news_parsed = []\n",
    "for stock, news_item in news.items():\n",
    "    for row in news_item.findAll('tr'):\n",
    "        try:\n",
    "            headline = row.a.getText()\n",
    "            source = row.span.getText()\n",
    "            news_parsed.append([stock, headline])\n",
    "        except:\n",
    "            pass\n",
    "\n",
    "# convert to a dataframe for data analysis\n",
    "df = pd.DataFrame(news_parsed, columns=['Stock', 'Headline'])"
   ]
  },
  {
   "cell_type": "code",
   "execution_count": 4,
   "metadata": {
    "colab": {
     "base_uri": "https://localhost:8080/",
     "height": 424
    },
    "id": "dWQsZIsSthBk",
    "outputId": "84057deb-d6f5-47c6-e816-8a9d03ee1432"
   },
   "outputs": [
    {
     "data": {
      "text/html": [
       "<div>\n",
       "<style scoped>\n",
       "    .dataframe tbody tr th:only-of-type {\n",
       "        vertical-align: middle;\n",
       "    }\n",
       "\n",
       "    .dataframe tbody tr th {\n",
       "        vertical-align: top;\n",
       "    }\n",
       "\n",
       "    .dataframe thead th {\n",
       "        text-align: right;\n",
       "    }\n",
       "</style>\n",
       "<table border=\"1\" class=\"dataframe\">\n",
       "  <thead>\n",
       "    <tr style=\"text-align: right;\">\n",
       "      <th></th>\n",
       "      <th>Stock</th>\n",
       "      <th>Headline</th>\n",
       "    </tr>\n",
       "  </thead>\n",
       "  <tbody>\n",
       "    <tr>\n",
       "      <th>0</th>\n",
       "      <td>AMZN</td>\n",
       "      <td>Never Mind the FAANG Stocks, Buy the GHOST Sto...</td>\n",
       "    </tr>\n",
       "    <tr>\n",
       "      <th>1</th>\n",
       "      <td>AMZN</td>\n",
       "      <td>Its Time to Boot the Moochers Off Your Spotify...</td>\n",
       "    </tr>\n",
       "    <tr>\n",
       "      <th>2</th>\n",
       "      <td>AMZN</td>\n",
       "      <td>German union warns Amazon of rolling pre-Chris...</td>\n",
       "    </tr>\n",
       "    <tr>\n",
       "      <th>3</th>\n",
       "      <td>AMZN</td>\n",
       "      <td>Here's Why Shopify Could Be a Breakout Stock i...</td>\n",
       "    </tr>\n",
       "    <tr>\n",
       "      <th>4</th>\n",
       "      <td>AMZN</td>\n",
       "      <td>A Bull Market Is Coming: 2 Trillion-Dollar Gro...</td>\n",
       "    </tr>\n",
       "    <tr>\n",
       "      <th>...</th>\n",
       "      <td>...</td>\n",
       "      <td>...</td>\n",
       "    </tr>\n",
       "    <tr>\n",
       "      <th>95</th>\n",
       "      <td>AMZN</td>\n",
       "      <td>Amazon Devices Chief Pledges Big Alexa Bets De...</td>\n",
       "    </tr>\n",
       "    <tr>\n",
       "      <th>96</th>\n",
       "      <td>AMZN</td>\n",
       "      <td>Oracle's Killing It in the Cloud, but Free Cas...</td>\n",
       "    </tr>\n",
       "    <tr>\n",
       "      <th>97</th>\n",
       "      <td>AMZN</td>\n",
       "      <td>Is Now the Right Time to Buy Electric Vehicle ...</td>\n",
       "    </tr>\n",
       "    <tr>\n",
       "      <th>98</th>\n",
       "      <td>AMZN</td>\n",
       "      <td>Amazon Defers Fresher Hiring To Control Costs,...</td>\n",
       "    </tr>\n",
       "    <tr>\n",
       "      <th>99</th>\n",
       "      <td>AMZN</td>\n",
       "      <td>You could be a landlord for Amazon, FedEx and ...</td>\n",
       "    </tr>\n",
       "  </tbody>\n",
       "</table>\n",
       "<p>100 rows × 2 columns</p>\n",
       "</div>"
      ],
      "text/plain": [
       "   Stock                                           Headline\n",
       "0   AMZN  Never Mind the FAANG Stocks, Buy the GHOST Sto...\n",
       "1   AMZN  Its Time to Boot the Moochers Off Your Spotify...\n",
       "2   AMZN  German union warns Amazon of rolling pre-Chris...\n",
       "3   AMZN  Here's Why Shopify Could Be a Breakout Stock i...\n",
       "4   AMZN  A Bull Market Is Coming: 2 Trillion-Dollar Gro...\n",
       "..   ...                                                ...\n",
       "95  AMZN  Amazon Devices Chief Pledges Big Alexa Bets De...\n",
       "96  AMZN  Oracle's Killing It in the Cloud, but Free Cas...\n",
       "97  AMZN  Is Now the Right Time to Buy Electric Vehicle ...\n",
       "98  AMZN  Amazon Defers Fresher Hiring To Control Costs,...\n",
       "99  AMZN  You could be a landlord for Amazon, FedEx and ...\n",
       "\n",
       "[100 rows x 2 columns]"
      ]
     },
     "execution_count": 4,
     "metadata": {},
     "output_type": "execute_result"
    }
   ],
   "source": [
    "df"
   ]
  },
  {
   "cell_type": "code",
   "execution_count": 5,
   "metadata": {
    "id": "rMG9juf2wS1V"
   },
   "outputs": [],
   "source": [
    "# export data to csv if needed\n",
    "df.to_csv(r'dataframe.csv', index=False, header=True)"
   ]
  }
 ],
 "metadata": {
  "colab": {
   "provenance": []
  },
  "kernelspec": {
   "display_name": "Python 3 (ipykernel)",
   "language": "python",
   "name": "python3"
  },
  "language_info": {
   "codemirror_mode": {
    "name": "ipython",
    "version": 3
   },
   "file_extension": ".py",
   "mimetype": "text/x-python",
   "name": "python",
   "nbconvert_exporter": "python",
   "pygments_lexer": "ipython3",
   "version": "3.9.12"
  }
 },
 "nbformat": 4,
 "nbformat_minor": 1
}
